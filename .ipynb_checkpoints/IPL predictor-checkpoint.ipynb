{
 "cells": [
  {
   "cell_type": "markdown",
   "metadata": {},
   "source": [
    "IPL Predictor"
   ]
  },
  {
   "cell_type": "code",
   "execution_count": null,
   "metadata": {},
   "outputs": [],
   "source": [
    "# Import libraries\n",
    "import pandas as pd\n",
    "import numpy as np\n",
    "from sklearn.ensemble import RandomForestClassifier\n",
    "from sklearn.svm import SVC\n",
    "from sklearn.metrics import accuracy_score\n",
    "from sklearn.model_selection import train_test_split"
   ]
  },
  {
   "cell_type": "code",
   "execution_count": null,
   "metadata": {},
   "outputs": [],
   "source": [
    "# Read dataset\n",
    "df_matches = pd.read_csv('matches.csv',header=0)"
   ]
  },
  {
   "cell_type": "code",
   "execution_count": null,
   "metadata": {},
   "outputs": [],
   "source": [
    "# brief info\n",
    "df_matches.info()"
   ]
  },
  {
   "cell_type": "code",
   "execution_count": null,
   "metadata": {},
   "outputs": [],
   "source": [
    "# First Five Entries\n",
    "df_matches.head()"
   ]
  },
  {
   "cell_type": "code",
   "execution_count": null,
   "metadata": {},
   "outputs": [],
   "source": [
    "# dropping season , date , player of match , umpire 1,2,3\n",
    "df_matches.drop(['season','date','player_of_match','umpire1','umpire2','umpire3'],axis = 1,inplace = True)\n",
    "df_matches.head()"
   ]
  },
  {
   "cell_type": "code",
   "execution_count": null,
   "metadata": {},
   "outputs": [],
   "source": [
    "# drop na entries\n",
    "df_matches.dropna(axis = 0,how = 'any',inplace = True)"
   ]
  },
  {
   "cell_type": "code",
   "execution_count": null,
   "metadata": {},
   "outputs": [],
   "source": [
    "# Dropping if any values are not available\n",
    "df_matches.loc[(df_matches['team1'] != df_matches['toss_winner'])&(df_matches['team2'] != df_matches['toss_winner'])]\n",
    "df_matches.loc[(df_matches['team1'] != df_matches['winner'])&(df_matches['team2'] != df_matches['winner'])]\n",
    "# No ambiguitiy in winner and toss winner"
   ]
  },
  {
   "cell_type": "code",
   "execution_count": null,
   "metadata": {},
   "outputs": [],
   "source": [
    "#  Now giving team codes to every team in team 1 and team 2\n",
    "\n",
    "teams1 = df_matches.team1.unique()\n",
    "\n",
    "teams2 = df_matches.team2.unique()\n",
    "\n",
    "winners = df_matches.winner.unique()\n",
    "\n",
    "print(teams1)\n",
    "print(teams2)\n",
    "print(winners)\n",
    "\n",
    "\n",
    "team_codes = { \"team1\" : {'Kolkata Knight Riders':0,'Chennai Super Kings':1,'Rajasthan Royals':2,\n",
    " 'Mumbai Indians':3 ,'Deccan Chargers':4, 'Kings XI Punjab':5,\n",
    " 'Royal Challengers Bangalore':6 ,'Delhi Daredevils':7 ,'Kochi Tuskers Kerala':8,\n",
    " 'Pune Warriors':9, 'Sunrisers Hyderabad':10 ,'Rising Pune Supergiants':11,\n",
    " 'Gujarat Lions':12},\n",
    "               \"team2\" : {'Kolkata Knight Riders':0,'Chennai Super Kings':1,'Rajasthan Royals':2,\n",
    " 'Mumbai Indians':3 ,'Deccan Chargers':4, 'Kings XI Punjab':5,\n",
    " 'Royal Challengers Bangalore':6 ,'Delhi Daredevils':7 ,'Kochi Tuskers Kerala':8,\n",
    " 'Pune Warriors':9, 'Sunrisers Hyderabad':10 ,'Rising Pune Supergiants':11,\n",
    " 'Gujarat Lions':12},\n",
    "               \"toss_winner\" : {'Kolkata Knight Riders':0,'Chennai Super Kings':1,'Rajasthan Royals':2,\n",
    " 'Mumbai Indians':3 ,'Deccan Chargers':4, 'Kings XI Punjab':5,\n",
    " 'Royal Challengers Bangalore':6 ,'Delhi Daredevils':7 ,'Kochi Tuskers Kerala':8,\n",
    " 'Pune Warriors':9, 'Sunrisers Hyderabad':10 ,'Rising Pune Supergiants':11,\n",
    " 'Gujarat Lions':12},\n",
    "            \"winner\" : {'Kolkata Knight Riders':0,'Chennai Super Kings':1,'Rajasthan Royals':2,\n",
    " 'Mumbai Indians':3 ,'Deccan Chargers':4, 'Kings XI Punjab':5,\n",
    " 'Royal Challengers Bangalore':6,'Delhi Daredevils':7 ,'Kochi Tuskers Kerala':8,\n",
    " 'Pune Warriors':9, 'Sunrisers Hyderabad':10 ,'Rising Pune Supergiants':11,\n",
    " 'Gujarat Lions':12}\n",
    "     \n",
    "}\n",
    "\n",
    "code_teams = ['Kolkata Knight Riders','Chennai Super Kings','Rajasthan Royals',\n",
    " 'Mumbai Indians' ,'Deccan Chargers', 'Kings XI Punjab',\n",
    " 'Royal Challengers Bangalore' ,'Delhi Daredevils' ,'Kochi Tuskers Kerala',\n",
    " 'Pune Warriors', 'Sunrisers Hyderabad' ,'Rising Pune Supergiants',\n",
    " 'Gujarat Lions']\n",
    "\n",
    "df_matches.replace(team_codes,inplace=True)\n",
    "\n",
    "print(df_matches.team1.unique())\n",
    "print(df_matches.team1.unique())\n",
    "print(df_matches.toss_winner.unique())\n",
    "print(df_matches.winner.unique())"
   ]
  },
  {
   "cell_type": "code",
   "execution_count": null,
   "metadata": {},
   "outputs": [],
   "source": [
    "# Now giving codes to Bat and field\n",
    "toss_decision = df_matches.toss_decision.unique()\n",
    "# 0 : field 1 : bat\n",
    "decision_codes = { \"toss_decision\":{'field':0,'bat':1} }\n",
    "\n",
    "df_matches.replace(decision_codes,inplace=True)"
   ]
  },
  {
   "cell_type": "code",
   "execution_count": null,
   "metadata": {},
   "outputs": [],
   "source": [
    "df_matches.head()"
   ]
  },
  {
   "cell_type": "code",
   "execution_count": null,
   "metadata": {},
   "outputs": [],
   "source": [
    "# result,city and venue\n",
    "result = df_matches.result.unique()\n",
    "#  nommal : 0 , tie:1\n",
    "print(result)\n",
    "\n",
    "cities = df_matches.city.unique()\n",
    "\n",
    "print(cities)\n",
    "\n",
    "#venues = df_matches.venue.unique()\n",
    "\n",
    "#print(venues)\n",
    "\n"
   ]
  },
  {
   "cell_type": "code",
   "execution_count": null,
   "metadata": {},
   "outputs": [],
   "source": [
    "# chane city , venues , result\n",
    "# Remove no results\n",
    "encode_cities_venues_results = {\n",
    "    \"result\" : {'normal':0,'tie':1,'no result':2},\n",
    "    \"venue\" : {\n",
    "        'M Chinnaswamy Stadium':0,'Punjab Cricket Association Stadium, Mohali':1,\n",
    " 'Feroz Shah Kotla':2, 'Wankhede Stadium':3 ,'Eden Gardens':4,\n",
    " 'Sawai Mansingh Stadium':5, 'Rajiv Gandhi International Stadium, Uppal':6,\n",
    " 'MA Chidambaram Stadium, Chepauk':7, 'Dr DY Patil Sports Academy':8, 'Newlands':9,\n",
    " \"St George's Park\":10, 'Kingsmead':11, 'SuperSport Park':12, 'Buffalo Park':13,\n",
    " 'New Wanderers Stadium':14, 'De Beers Diamond Oval':15, 'OUTsurance Oval':16,\n",
    " 'Brabourne Stadium':17, 'Sardar Patel Stadium, Motera':18, 'Barabati Stadium':19,\n",
    " 'Vidarbha Cricket Association Stadium, Jamtha':20,\n",
    " 'Himachal Pradesh Cricket Association Stadium':21 ,'Nehru Stadium':22,\n",
    " 'Holkar Cricket Stadium':23,\n",
    " 'Dr. Y.S. Rajasekhara Reddy ACA-VDCA Cricket Stadium':24,\n",
    " 'Subrata Roy Sahara Stadium':25,\n",
    " 'Shaheed Veer Narayan Singh International Stadium':26,\n",
    " 'JSCA International Stadium Complex':27, 'Sheikh Zayed Stadium':28,\n",
    " 'Sharjah Cricket Stadium':29, 'Maharashtra Cricket Association Stadium':30,\n",
    " 'Punjab Cricket Association IS Bindra Stadium, Mohali':31,\n",
    " 'Saurashtra Cricket Association Stadium':32,'Green Park':33,\n",
    " 'Dubai International Cricket Stadium':34\n",
    "    },\n",
    "    \"city\" : {\n",
    "        'Bangalore':0, 'Chandigarh':1, 'Delhi':2, 'Mumbai':3, 'Kolkata':4, 'Jaipur':5, 'Hyderabad':6,\n",
    " 'Chennai':7, 'Cape Town':8, 'Port Elizabeth':9, 'Durban':10, 'Centurion':11, 'East London':12,\n",
    " 'Johannesburg':13, 'Kimberley':14, 'Bloemfontein':15, 'Ahmedabad':16, 'Cuttack':17, 'Nagpur':18,\n",
    " 'Dharamsala':19, 'Kochi':20, 'Indore':21, 'Visakhapatnam':22, 'Pune':23, 'Raipur':24, 'Ranchi':25,\n",
    " 'Abu Dhabi':26, 'Sharjah':27, 'Rajkot':28, 'Kanpur':29\n",
    "    }\n",
    "    \n",
    "}\n",
    "df_matches.replace(encode_cities_venues_results,inplace=True)"
   ]
  },
  {
   "cell_type": "code",
   "execution_count": null,
   "metadata": {},
   "outputs": [],
   "source": [
    "# write processed csv\n",
    "df_matches.head()"
   ]
  },
  {
   "cell_type": "code",
   "execution_count": null,
   "metadata": {},
   "outputs": [],
   "source": [
    "# Get some visualizations\n",
    "df_matches['winner'].hist(bins=50)"
   ]
  },
  {
   "cell_type": "code",
   "execution_count": null,
   "metadata": {},
   "outputs": [],
   "source": [
    "# Function that returns predictions\n",
    "\n",
    "def classifier(X,Y):\n",
    "    model = RandomForestClassifier(n_estimators=100)\n",
    "    model.fit(X,Y)\n",
    "    return model"
   ]
  },
  {
   "cell_type": "code",
   "execution_count": null,
   "metadata": {},
   "outputs": [],
   "source": [
    "# Predictors : all the attributes used for prediction \n",
    "predictors = ['team1','team2','venue','city','toss_winner','toss_decision']\n",
    "outcome = ['winner']\n",
    "\n",
    "X = df_matches[predictors] # passing the list to select attributes used prediction\n",
    "Y = df_matches[outcome]\n",
    "\n",
    "# Train Model \n",
    "model = classifier(X,Y[outcome])\n",
    "\n",
    "def getTeamCode(team):\n",
    "    return team_codes[\"team1\"][team]\n",
    "def getVenueCode(venue):\n",
    "    return encode_cities_venues_results[\"venue\"][venue]\n",
    "def getCityCode(city):\n",
    "    return encode_cities_venues_results[\"city\"][city]\n",
    "def getDecisionCode(decision):\n",
    "    return decision_codes[\"toss_decision\"][decision]\n",
    "\n",
    "\n"
   ]
  },
  {
   "cell_type": "code",
   "execution_count": null,
   "metadata": {},
   "outputs": [],
   "source": [
    "# Now call function that will predict winner\n",
    "at = ['Chennai Super Kings','Rajasthan Royals','MA Chidambaram Stadium, Chepauk','Chennai','Rajasthan Royals','field']\n",
    "\n",
    "\n",
    "team1 = getTeamCode(at[0])\n",
    "team2 = getTeamCode(at[1])\n",
    "venue = getVenueCode(at[2])\n",
    "city = getCityCode(at[3])\n",
    "toss_winner = getTeamCode(at[4])\n",
    "toss_decision = getDecisionCode(at[5])\n",
    "\n",
    "pass_attributes = []\n",
    "\n",
    "pass_attributes.append(team1)\n",
    "pass_attributes.append(team2)\n",
    "pass_attributes.append(venue)\n",
    "pass_attributes.append(city)\n",
    "pass_attributes.append(toss_winner)\n",
    "pass_attributes.append(toss_decision)\n",
    "\n",
    "\n",
    "def predictWinner(model,attributes):\n",
    "    prediction = model.predict([attributes])\n",
    "    return prediction\n",
    "\n",
    "prediction = predictWinner(model,pass_attributes)\n",
    "\n",
    "def getTeamName(team_code):\n",
    "    return code_teams[team_code]\n",
    "\n",
    "print(\"Winning Team \"+getTeamName(int(prediction[0])))"
   ]
  },
  {
   "cell_type": "code",
   "execution_count": null,
   "metadata": {},
   "outputs": [],
   "source": [
    "# Cross Validation\n",
    "\n",
    "X_train, X_test, y_train, y_test = train_test_split(X, Y, test_size=0.2)\n",
    "\n",
    "test_model = SVC(gamma='scale')\n",
    "test_model.fit(X_train,y_train[outcome])\n",
    "test_predictions = test_model.predict(X_test)\n",
    "\n",
    "test_accuracy = accuracy_score(test_predictions,y_test)\n",
    "\n",
    "print(\"Test accuracy \"+str(test_accuracy))\n"
   ]
  }
 ],
 "metadata": {
  "kernelspec": {
   "display_name": "Python 3",
   "language": "python",
   "name": "python3"
  },
  "language_info": {
   "codemirror_mode": {
    "name": "ipython",
    "version": 3
   },
   "file_extension": ".py",
   "mimetype": "text/x-python",
   "name": "python",
   "nbconvert_exporter": "python",
   "pygments_lexer": "ipython3",
   "version": "3.6.5"
  }
 },
 "nbformat": 4,
 "nbformat_minor": 2
}
